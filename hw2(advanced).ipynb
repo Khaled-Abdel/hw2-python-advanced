{
 "cells": [
  {
   "cell_type": "code",
   "execution_count": null,
   "id": "21e9af87",
   "metadata": {},
   "outputs": [],
   "source": [
    "1. Write a function that takes a positive integer num and calculates how many dots exist in a pentagonal shape around the center dot on the Nth iteration.\n",
    "\n",
    "In the image below you can see the first iteration is only a single dot. On the second, there are 6 dots. On the third, there are 16 dots, and on the fourth there are 31 dots.\n",
    "\n",
    "\n",
    "\n",
    "\n",
    "\n",
    "\n",
    "\n",
    "\n",
    "Return the number of dots that exist in the whole pentagon on the Nth iteration.\n",
    "\n",
    "Examples\n",
    "\n",
    "pentagonal(1) ➞ 1\n",
    "\n",
    "pentagonal(2) ➞ 6\n",
    "\n",
    "pentagonal(3) ➞ 16\n",
    "\n",
    "pentagonal(8) ➞ 141\n"
   ]
  },
  {
   "cell_type": "code",
   "execution_count": 1,
   "id": "3fe72d41",
   "metadata": {},
   "outputs": [],
   "source": [
    "def pentagonal(num):\n",
    "    \"\"\" This function help you get the dots that exist in the whole pentagon\n",
    "            on the Nth iteration by using recursion \"\"\"\n",
    "    \n",
    "    #base case\n",
    "    if(num==0):\n",
    "        return 1;\n",
    "    \n",
    "    # addes the of each dot recusively for each ieration\n",
    "    return 5*(num-1) + pentagonal(num-1)"
   ]
  },
  {
   "cell_type": "code",
   "execution_count": 2,
   "id": "7382279d",
   "metadata": {},
   "outputs": [
    {
     "name": "stdout",
     "output_type": "stream",
     "text": [
      "1\n",
      "6\n",
      "16\n",
      "141\n"
     ]
    }
   ],
   "source": [
    "print(pentagonal(1))\n",
    "print(pentagonal(2))\n",
    "print(pentagonal(3))\n",
    "print(pentagonal(8))"
   ]
  },
  {
   "cell_type": "code",
   "execution_count": 43,
   "id": "10a717a7",
   "metadata": {},
   "outputs": [],
   "source": [
    "2.  Make a function that encrypts a given input with these steps:\n",
    "\n",
    "Input: \"apple\"\n",
    "\n",
    "Step 1: Reverse the input: \"elppa\"\n",
    "\n",
    "Step 2: Replace all vowels using the following chart:\n",
    "\n",
    "a => 0\n",
    "e => 1\n",
    "i => 2\n",
    "o => 2\n",
    "u => 3\n",
    "\n",
    "# \"1lpp0\"\n",
    "\n",
    "Step 3: Add \"aca\" to the end of the word: \"1lpp0aca\"\n",
    "\n",
    "Output: \"1lpp0aca\"\n",
    "\n",
    "Examples\n",
    "\n",
    "encrypt(\"banana\") ➞ \"0n0n0baca\"\n",
    "\n",
    "encrypt(\"karaca\") ➞ \"0c0r0kaca\"\n",
    "\n",
    "encrypt(\"burak\") ➞ \"k0r3baca\"\n",
    "\n",
    "encrypt(\"alpaca\") ➞ \"0c0pl0aca\"\n",
    "\n"
   ]
  },
  {
   "cell_type": "code",
   "execution_count": 3,
   "id": "a386f308",
   "metadata": {},
   "outputs": [],
   "source": [
    "\n",
    "\n",
    "def encrypt(string):\n",
    "    vowels = ['a','e','i','o','u']\n",
    "    vowel_nums = [0,1,2,2,3]\n",
    "    ans = \"\"\n",
    "    \n",
    "    reverse = string[::-1]\n",
    "    \n",
    "    for i in reverse:\n",
    "        if i in vowels:\n",
    "            index = vowels.index(i)\n",
    "            ans = ans + str(vowel_nums[index])\n",
    "        else:\n",
    "            ans = ans + i\n",
    "            \n",
    "            \n",
    "    return ans+'aca'\n",
    "    "
   ]
  },
  {
   "cell_type": "code",
   "execution_count": 4,
   "id": "f669fb69",
   "metadata": {},
   "outputs": [
    {
     "name": "stdout",
     "output_type": "stream",
     "text": [
      "0n0n0baca\n",
      "0c0r0kaca\n",
      "k0r3baca\n",
      "0c0pl0aca\n"
     ]
    }
   ],
   "source": [
    "print(encrypt(\"banana\"))\n",
    "print(encrypt(\"karaca\"))\n",
    "print(encrypt(\"burak\"))\n",
    "print(encrypt(\"alpaca\"))\n"
   ]
  },
  {
   "cell_type": "code",
   "execution_count": null,
   "id": "e2b954dc",
   "metadata": {},
   "outputs": [],
   "source": [
    "3. Given the month and year as numbers, return whether that month contains a Friday 13th.(i.e You can check Python's datetime module)\n",
    "\n",
    "Examples\n",
    "\n",
    "has_friday_13(3, 2020) ➞ True\n",
    "\n",
    "has_friday_13(10, 2017) ➞ True\n",
    "\n",
    "has_friday_13(1, 1985) ➞ False\n"
   ]
  },
  {
   "cell_type": "code",
   "execution_count": 5,
   "id": "65fa3936",
   "metadata": {},
   "outputs": [],
   "source": [
    "import datetime as dt\n",
    "\n",
    "def has_friday_13(month,year):\n",
    "    date = dt.date(year,month,13)\n",
    "    \n",
    "    if date.strftime(\"%A\") == 'Friday':\n",
    "        return True\n",
    "    \n",
    "    return False"
   ]
  },
  {
   "cell_type": "code",
   "execution_count": 6,
   "id": "d6e8950b",
   "metadata": {},
   "outputs": [
    {
     "data": {
      "text/plain": [
       "True"
      ]
     },
     "execution_count": 6,
     "metadata": {},
     "output_type": "execute_result"
    }
   ],
   "source": [
    "has_friday_13(3, 2020) "
   ]
  },
  {
   "cell_type": "code",
   "execution_count": 7,
   "id": "53696fd5",
   "metadata": {},
   "outputs": [
    {
     "data": {
      "text/plain": [
       "True"
      ]
     },
     "execution_count": 7,
     "metadata": {},
     "output_type": "execute_result"
    }
   ],
   "source": [
    "has_friday_13(10, 2017) "
   ]
  },
  {
   "cell_type": "code",
   "execution_count": 8,
   "id": "ff712f13",
   "metadata": {},
   "outputs": [
    {
     "data": {
      "text/plain": [
       "False"
      ]
     },
     "execution_count": 8,
     "metadata": {},
     "output_type": "execute_result"
    }
   ],
   "source": [
    "has_friday_13(1, 1985) "
   ]
  },
  {
   "cell_type": "code",
   "execution_count": null,
   "id": "9d3f1ef8",
   "metadata": {},
   "outputs": [],
   "source": [
    "4. Write a regular expression that will help us count \n",
    "how many bad cookies are produced every day. \n",
    "You must use RegEx negative lookbehind.\n"
   ]
  },
  {
   "cell_type": "code",
   "execution_count": 9,
   "id": "e95cd538",
   "metadata": {},
   "outputs": [],
   "source": [
    "lst = [\"bad cookie\", \"good cookie\", \"bad cookie\", \"good cookie\", \"good cookie\"]\n",
    "pattern = \"bad cookie\"\n"
   ]
  },
  {
   "cell_type": "code",
   "execution_count": 10,
   "id": "d6662eae",
   "metadata": {},
   "outputs": [
    {
     "name": "stdout",
     "output_type": "stream",
     "text": [
      "The occuence of a bad cookies are:  2\n"
     ]
    }
   ],
   "source": [
    "import re\n",
    "print(\"The occuence of a bad cookies are: \",len(re.findall(pattern,\",\".join(lst))))\n"
   ]
  },
  {
   "cell_type": "code",
   "execution_count": 105,
   "id": "ffe5163a",
   "metadata": {},
   "outputs": [],
   "source": [
    "5. Given a list of words in the singular form, return a set of \n",
    "        those words in the plural form if they appear more than once in the list.\n",
    "\n",
    "Examples\n",
    "\n",
    "pluralize([\"cow\", \"pig\", \"cow\", \"cow\"]) ➞ { \"cows\", \"pig\" }\n",
    "\n",
    "pluralize([\"table\", \"table\", \"table\"]) ➞ { \"tables\" }\n",
    "\n",
    "pluralize([\"chair\", \"pencil\", \"arm\"]) ➞ { \"chair\", \"pencil\", \"arm\" }\n"
   ]
  },
  {
   "cell_type": "code",
   "execution_count": 11,
   "id": "bc60ad93",
   "metadata": {},
   "outputs": [],
   "source": [
    "def pluralize(list_names):\n",
    "    \"\"\" this function  helps returns the name plural if it appeared more than twic and else as it is\"\"\"\n",
    "    collection = []\n",
    "    \n",
    "    for i in list_names:\n",
    "        # if the plural exists then it goes to the net iteration\n",
    "        if(i+'s' in collection):\n",
    "            continue\n",
    "        #if it apeared twice it will be plural and once as it is\n",
    "        else:\n",
    "            if(list_names.count(i) >=2):\n",
    "                collection.append(i+\"s\")\n",
    "            else:\n",
    "                collection.append(i)\n",
    "                \n",
    "            \n",
    "    return collection\n",
    "        \n",
    "        \n",
    "        "
   ]
  },
  {
   "cell_type": "code",
   "execution_count": 12,
   "id": "fb4fd1ae",
   "metadata": {},
   "outputs": [
    {
     "data": {
      "text/plain": [
       "['cows', 'pig']"
      ]
     },
     "execution_count": 12,
     "metadata": {},
     "output_type": "execute_result"
    }
   ],
   "source": [
    "pluralize([\"cow\", \"pig\", \"cow\", \"cow\"])"
   ]
  },
  {
   "cell_type": "code",
   "execution_count": 13,
   "id": "053a5c54",
   "metadata": {},
   "outputs": [
    {
     "data": {
      "text/plain": [
       "['tables']"
      ]
     },
     "execution_count": 13,
     "metadata": {},
     "output_type": "execute_result"
    }
   ],
   "source": [
    "pluralize([\"table\", \"table\", \"table\"])"
   ]
  },
  {
   "cell_type": "code",
   "execution_count": 14,
   "id": "2747f2e2",
   "metadata": {},
   "outputs": [
    {
     "data": {
      "text/plain": [
       "['chair', 'pencil', 'arm']"
      ]
     },
     "execution_count": 14,
     "metadata": {},
     "output_type": "execute_result"
    }
   ],
   "source": [
    "pluralize([\"chair\", \"pencil\", \"arm\"])"
   ]
  },
  {
   "cell_type": "code",
   "execution_count": null,
   "id": "eb743ebd",
   "metadata": {},
   "outputs": [],
   "source": []
  },
  {
   "cell_type": "code",
   "execution_count": null,
   "id": "b9c831e2",
   "metadata": {},
   "outputs": [],
   "source": []
  },
  {
   "cell_type": "code",
   "execution_count": null,
   "id": "7f1a7984",
   "metadata": {},
   "outputs": [],
   "source": []
  },
  {
   "cell_type": "code",
   "execution_count": null,
   "id": "82c9166c",
   "metadata": {},
   "outputs": [],
   "source": []
  },
  {
   "cell_type": "code",
   "execution_count": null,
   "id": "63bd4537",
   "metadata": {},
   "outputs": [],
   "source": []
  },
  {
   "cell_type": "code",
   "execution_count": null,
   "id": "de42725c",
   "metadata": {},
   "outputs": [],
   "source": []
  },
  {
   "cell_type": "code",
   "execution_count": null,
   "id": "60e8dc39",
   "metadata": {},
   "outputs": [],
   "source": []
  },
  {
   "cell_type": "code",
   "execution_count": null,
   "id": "a04d32be",
   "metadata": {},
   "outputs": [],
   "source": []
  },
  {
   "cell_type": "code",
   "execution_count": null,
   "id": "0d8765ef",
   "metadata": {},
   "outputs": [],
   "source": []
  },
  {
   "cell_type": "code",
   "execution_count": null,
   "id": "160dc6c1",
   "metadata": {},
   "outputs": [],
   "source": []
  },
  {
   "cell_type": "code",
   "execution_count": null,
   "id": "9d3c1094",
   "metadata": {},
   "outputs": [],
   "source": []
  },
  {
   "cell_type": "code",
   "execution_count": null,
   "id": "c5563b07",
   "metadata": {},
   "outputs": [],
   "source": []
  },
  {
   "cell_type": "code",
   "execution_count": null,
   "id": "0671caec",
   "metadata": {},
   "outputs": [],
   "source": []
  },
  {
   "cell_type": "code",
   "execution_count": null,
   "id": "2ffe71d8",
   "metadata": {},
   "outputs": [],
   "source": []
  },
  {
   "cell_type": "code",
   "execution_count": null,
   "id": "a7a884c5",
   "metadata": {},
   "outputs": [],
   "source": []
  },
  {
   "cell_type": "code",
   "execution_count": null,
   "id": "50864084",
   "metadata": {},
   "outputs": [],
   "source": []
  },
  {
   "cell_type": "code",
   "execution_count": null,
   "id": "d5a1236d",
   "metadata": {},
   "outputs": [],
   "source": []
  },
  {
   "cell_type": "code",
   "execution_count": null,
   "id": "1e7a2c49",
   "metadata": {},
   "outputs": [],
   "source": []
  },
  {
   "cell_type": "code",
   "execution_count": null,
   "id": "ebda340b",
   "metadata": {},
   "outputs": [],
   "source": []
  },
  {
   "cell_type": "code",
   "execution_count": null,
   "id": "dff7b0e1",
   "metadata": {},
   "outputs": [],
   "source": []
  },
  {
   "cell_type": "code",
   "execution_count": null,
   "id": "476fcb0a",
   "metadata": {},
   "outputs": [],
   "source": []
  },
  {
   "cell_type": "code",
   "execution_count": null,
   "id": "7f9d003c",
   "metadata": {},
   "outputs": [],
   "source": []
  }
 ],
 "metadata": {
  "kernelspec": {
   "display_name": "Python 3",
   "language": "python",
   "name": "python3"
  },
  "language_info": {
   "codemirror_mode": {
    "name": "ipython",
    "version": 3
   },
   "file_extension": ".py",
   "mimetype": "text/x-python",
   "name": "python",
   "nbconvert_exporter": "python",
   "pygments_lexer": "ipython3",
   "version": "3.8.8"
  }
 },
 "nbformat": 4,
 "nbformat_minor": 5
}
